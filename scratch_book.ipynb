{
 "cells": [
  {
   "cell_type": "code",
   "execution_count": 1,
   "metadata": {},
   "outputs": [],
   "source": [
    "import fetch_data\n",
    "import nest_asyncio\n",
    "\n",
    "lv1_area = fetch_data.fetch_subarea('360')\n",
    "\n",
    "nest_asyncio.apply()\n",
    "lv1_area_codes = [i['kodeWilayah'] for i in lv1_area if i['namaWilayah'] != 'LUAR NEGERI']\n",
    "lv2_area = fetch_data.crawl_subareas(lv1_area_codes)\n",
    "lv2_area_codes = [i['kodeWilayah'] for i in lv2_area]\n",
    "lv3_area = fetch_data.crawl_subareas(lv2_area_codes)\n",
    "\n",
    "level1= []\n",
    "for prov in lv1_area:\n",
    "    item = {}\n",
    "    item['kodeProv'] = prov['kodeWilayah']\n",
    "    item['kodeProvDagri'] = prov['kodeWilayahDagri']\n",
    "    item['namaProv'] = prov['namaWilayahDagri'].strip()\n",
    "    level1.append(item)\n",
    "\n",
    "level2= []\n",
    "for kabkot in lv2_area:\n",
    "    item2 = {}\n",
    "    item2['kodeKabKot'] = kabkot['kodeWilayah']\n",
    "    item2['kodeKabKotDagri'] = kabkot['kodeWilayahDagri']\n",
    "    item2['namaKabKot'] = kabkot['namaWilayahDagri'].strip()\n",
    "    item2['kodeProv'] = kabkot['kodeIndukWilayah']\n",
    "    level2.append(item2)\n",
    "\n",
    "level3= []\n",
    "for kec in lv3_area:\n",
    "    item3 = {}\n",
    "    item3['kodeKec'] = kec['kodeWilayah']\n",
    "    item3['kodeKecDagri'] = kec['kodeWilayahDagri']\n",
    "    item3['namaKec'] = kec['namaWilayahDagri'].strip()\n",
    "    item3['kodeKabKot'] = kec['kodeIndukWilayah']\n",
    "    level3.append(item3)"
   ]
  },
  {
   "cell_type": "code",
   "execution_count": 4,
   "metadata": {},
   "outputs": [],
   "source": [
    "merged_test = []\n",
    "for h in level3:\n",
    "    for i in level2:\n",
    "        for j in level1:\n",
    "            if h['kodeKabKot'] == i['kodeKabKot'] and i['kodeProv'] == j['kodeProv']:\n",
    "                merged_dict = h|i|j\n",
    "            else:\n",
    "                None\n",
    "    merged_test.append(merged_dict)"
   ]
  },
  {
   "cell_type": "code",
   "execution_count": 11,
   "metadata": {},
   "outputs": [],
   "source": [
    "import pandas as pd\n",
    "jatim = [j for j in merged_test if j['namaProv'] == 'JAWA TIMUR']\n",
    "pd.DataFrame(jatim).to_csv('kode_jatim.csv', index=False)"
   ]
  },
  {
   "cell_type": "code",
   "execution_count": null,
   "metadata": {},
   "outputs": [],
   "source": []
  },
  {
   "cell_type": "code",
   "execution_count": 1,
   "metadata": {},
   "outputs": [],
   "source": [
    "import csv\n",
    "import fetch_data\n",
    "import nest_asyncio\n",
    "import logging\n",
    "import sys\n",
    "\n",
    "logstream_handler = logging.StreamHandler(stream=sys.stdout)\n",
    "logging.basicConfig(handlers=[logstream_handler],\n",
    "                    format='%(asctime)s.%(msecs)d %(name)s %(levelname)s %(message)s',\n",
    "                    datefmt='%Y-%m-%d %H:%M:%S',\n",
    "                    level=logging.INFO)\n",
    "\n",
    "nest_asyncio.apply()\n",
    "\n",
    "with open('kode_jatim.csv', 'r') as f:\n",
    "    wilayah = f.read().splitlines()\n",
    "\n",
    "sel_wilayah = [i['kodeKec'] for i in csv.DictReader(wilayah)]\n",
    "\n",
    "cuba = fetch_data.crawl_schlists(sel_wilayah)"
   ]
  },
  {
   "cell_type": "code",
   "execution_count": null,
   "metadata": {},
   "outputs": [],
   "source": [
    "import httpx\n",
    "import asyncio\n",
    "\n",
    "import logging\n",
    "\n",
    "import sys\n",
    "\n",
    "\n",
    "from fetch_data import TARGET_BASE_URL\n",
    "\n",
    "from httpx import ReadTimeout, RemoteProtocolError\n",
    "\n",
    "logstream_handler = logging.StreamHandler(stream=sys.stdout)\n",
    "logging.basicConfig(handlers=[logstream_handler],\n",
    "                    format='%(asctime)s.%(msecs)d %(name)s %(levelname)s %(message)s',\n",
    "                    datefmt='%Y-%m-%d %H:%M:%S',\n",
    "                    level=logging.INFO)\n",
    "\n",
    "def paginator(items:list, items_per_page:int):\n",
    "    pages = [items[item:item+items_per_page] for item in range(0, len(items), items_per_page)]\n",
    "    return pages\n",
    "\n",
    "async def _crawl(_area:str) -> list:\n",
    "    async with httpx.AsyncClient(timeout=None) as client:\n",
    "        # try:\n",
    "            data_url = f'{TARGET_BASE_URL}satuan-pendidikan/download?kodeKecamatan={_area}&sortBy=bentuk_pendidikan&sortDir=asc&format=csv'\n",
    "            fetch_raw = await client.get(data_url)\n",
    "            resp = fetch_raw.content.decode('UTF-8')\n",
    "            parse_data =  csv.DictReader(resp.splitlines())\n",
    "            stacked = [i for i in parse_data]\n",
    "            \n",
    "            return stacked\n",
    "        # except ReadTimeout:\n",
    "        #     print(data_url)\n",
    "        #     return exit(0)\n",
    "        \n",
    "        \n",
    "async def job_aggregator(job_list):\n",
    "    job_agg = await asyncio.gather(*job_list)\n",
    "    return job_agg\n",
    "\n",
    "sch_list = []\n",
    "for subset in paginator(sel_wilayah, 50):\n",
    "    joblist = [_crawl(area) for area in subset]\n",
    "    sequences = asyncio.run(job_aggregator(joblist))\n",
    "    sch_list.append(sequences)"
   ]
  },
  {
   "cell_type": "code",
   "execution_count": 4,
   "metadata": {},
   "outputs": [],
   "source": [
    "unnest_data = [datum for array_datum in sch_list for datum in array_datum]"
   ]
  },
  {
   "cell_type": "code",
   "execution_count": 6,
   "metadata": {},
   "outputs": [],
   "source": [
    "unnest_data2 = [datum for array_datum in unnest_data for datum in array_datum]"
   ]
  },
  {
   "cell_type": "code",
   "execution_count": 8,
   "metadata": {},
   "outputs": [],
   "source": [
    "import pandas as pd\n",
    "df = pd.DataFrame(unnest_data2)"
   ]
  },
  {
   "cell_type": "code",
   "execution_count": null,
   "metadata": {},
   "outputs": [],
   "source": [
    "df"
   ]
  }
 ],
 "metadata": {
  "kernelspec": {
   "display_name": "scraper",
   "language": "python",
   "name": "python3"
  },
  "language_info": {
   "codemirror_mode": {
    "name": "ipython",
    "version": 3
   },
   "file_extension": ".py",
   "mimetype": "text/x-python",
   "name": "python",
   "nbconvert_exporter": "python",
   "pygments_lexer": "ipython3",
   "version": "3.11.7"
  }
 },
 "nbformat": 4,
 "nbformat_minor": 2
}
